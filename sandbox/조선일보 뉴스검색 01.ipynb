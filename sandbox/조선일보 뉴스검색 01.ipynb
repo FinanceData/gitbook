{
 "cells": [
  {
   "cell_type": "markdown",
   "metadata": {
    "colab_type": "text",
    "id": "uMnAwZP33D3J"
   },
   "source": [
    "# 조선일보 뉴스검색"
   ]
  },
  {
   "cell_type": "markdown",
   "metadata": {
    "colab_type": "text",
    "id": "kOQIbCDHBFqu"
   },
   "source": [
    "http://search.chosun.com/search/news.search?query=검색어&orderby=news&sdate=&edate=&pageno=0\n",
    "\n",
    "* query: (검색어) \n",
    "* orderby: (순서) news=관련도순, docdatetime=최신순, old=오래된순\n",
    "* cont1: (포함단어)\n",
    "* cont2: (제외단어)\n",
    "* cont5: (기자이름) ex) \"^김형민\"\n",
    "* categoryname: (출처) ex) \"조선경제i\"\n",
    "* sdate: (시작일) YYYY.MM.DD, Y=최근1년, M=최근1개월, W=최근1주\n",
    "* edate: (종료일) YYYY.MM.DD\n",
    "* pageno: (페이지번호)\n"
   ]
  },
  {
   "cell_type": "markdown",
   "metadata": {
    "colab_type": "text",
    "id": "q9msvqyrPlbw"
   },
   "source": [
    "# 쿼리 예시\n",
    "\n",
    "http://search.chosun.com/search/news.search?query=가상화폐&orderby=news&sdate=Y&pageno=0\n",
    "* query=가상화폐: 질의단어\n",
    "* orderby=news: 관련도가 높은 순\n",
    "* sdate=Y: 최근 1년\n",
    "* pageno=0: 페이지 번호 (페이지당 10개)"
   ]
  },
  {
   "cell_type": "code",
   "execution_count": 1,
   "metadata": {
    "collapsed": true
   },
   "outputs": [],
   "source": [
    "from datetime import datetime, timedelta\n",
    "from bs4 import BeautifulSoup \n",
    "import requests"
   ]
  },
  {
   "cell_type": "code",
   "execution_count": 2,
   "metadata": {
    "colab": {
     "autoexec": {
      "startup": false,
      "wait_interval": 0
     },
     "base_uri": "https://localhost:8080/",
     "height": 12957,
     "output_extras": [
      {
       "item_id": 1
      }
     ]
    },
    "colab_type": "code",
    "executionInfo": {
     "elapsed": 1390,
     "status": "ok",
     "timestamp": 1512566739654,
     "user": {
      "displayName": "Sean-June Lee",
      "photoUrl": "//lh3.googleusercontent.com/-j96Pvw9LbEw/AAAAAAAAAAI/AAAAAAAAhqE/pPM6FuP1OtM/s50-c-k-no/photo.jpg",
      "userId": "115680831308925661023"
     },
     "user_tz": -540
    },
    "id": "7q7Qb4-y2Fqp",
    "outputId": "8e3bb4f6-2ebf-4b2f-a252-3dc0ea1c8fc2"
   },
   "outputs": [
    {
     "name": "stdout",
     "output_type": "stream",
     "text": [
      "    \r\n",
      "<!DOCTYPE html>\r\n",
      "<html lang='ko'>\r\n",
      "<head>\r\n",
      "\r\n",
      "<meta charset=\"utf-8\">\r\n",
      "<title>조선닷컴 검색</title>\r\n",
      "<meta http-equiv=\"X-UA-Compatible\" content=\"IE=edge,chrome=1\">\r\n",
      "<meta name=\"viewport\" content=\"width=device-width, initial-scale=1, maximum-scale=1, user-scalable=no\">\r\n",
      "<meta name=\"description\" content=\"\">\r\n",
      "<meta name=\"keywords\" content=\"조선일보, 조선닷컴, chosun, 조선미디어, 일간지, 신문, 뉴스, 보도, 속보, News, Newspaper, Korea, South Korea, Rep.Korea\">\r\n",
      "<meta name=\"author\" content=\"Digital Chosunilbo\">\r\n",
      "\r\n",
      "<!--[if lt IE 9]><script src=\"http://news.chosun.com/dhtm/html5/html5shiv.min.js\"></script><![endif]-->\r\n",
      "<link rel=\"stylesheet\" type=\"text/css\" href=\"http://news.chosun.com/dhtm/css/main/201505/css_reset_2015_min.css\">\r\n",
      "<link rel=\"stylesheet\" type=\"text/css\" href=\"http://news.chosun.com/search/2017_new/css/search.css?ver=201707\">\r\n",
      "<link rel=\"stylesheet\" type=\"text/css\" href=\"http://news.chosun.com/ent/special/dhtm/swiper.css\">\r\n",
      "\r\n",
      "<script type=\"text/javascript\" src=\"http://news.chosun.com/ent/special/dhtm/jq\n"
     ]
    }
   ],
   "source": [
    "# 간단히 URL 테스트\n",
    "\n",
    "query = '가상화폐'\n",
    "url_tmpl = 'http://search.chosun.com/search/news.search?query={query}&orderby=news&sdate=Y&pageno={pageno}'\n",
    "url = url_tmpl.format(query=query, pageno='0')\n",
    "r = requests.get(url)\n",
    "print(r.text[:1000])"
   ]
  },
  {
   "cell_type": "markdown",
   "metadata": {},
   "source": [
    "# 한 페이지의 뉴스 링크와 제목"
   ]
  },
  {
   "cell_type": "code",
   "execution_count": 3,
   "metadata": {
    "colab": {
     "autoexec": {
      "startup": false,
      "wait_interval": 0
     }
    },
    "colab_type": "code",
    "id": "KtjCRGqU32z9"
   },
   "outputs": [
    {
     "name": "stdout",
     "output_type": "stream",
     "text": [
      "http://app.chosun.com/site/data/html_dir/2017/12/06/2017120601712.html\n",
      "두나무, 가상화폐 거래소 '업비트' 거래수수료 페이백 이벤트 기간 연장\n",
      "http://biz.chosun.com/site/data/html_dir/2017/12/06/2017120601960.html\n",
      "'비트코인 선물' 국내 거래 금지...비트코인 가격엔 영향없어\n",
      "http://biz.chosun.com/site/data/html_dir/2017/12/06/2017120601684.html\n",
      "“비트코인은 위험하고 체계적인 거품”\n",
      "http://biz.chosun.com/site/data/html_dir/2017/12/06/2017120601327.html\n",
      "내년부터 가상화폐 거래시 본인명의 계좌 한곳만 입출금 가능\n",
      "http://biz.chosun.com/site/data/html_dir/2017/12/05/2017120502113.html\n",
      "[가상화폐 규제] \"도박·투기판\" vs \"새 금융패러다임\"\n",
      "http://biz.chosun.com/site/data/html_dir/2017/12/05/2017120502944.html\n",
      "[가상화폐 규제] 소비자보호·불법행위에 초점…중국, 러시아는 원천금지\n",
      "http://biz.chosun.com/site/data/html_dir/2017/12/05/2017120502948.html\n",
      "[가상화폐 규제] 경제학자 vs IT 전문가...전선 명확히 갈려\n",
      "http://biz.chosun.com/site/data/html_dir/2017/12/06/2017120600068.html\n",
      "가상통화에 獨은 부가세, 美·日은 양도세… 한국은?\n",
      "http://biz.chosun.com/site/data/html_dir/2017/12/06/2017120600098.html\n",
      "서점가에서도 바뀐 투자 트렌드… 가상화폐·주식이 부동산 밀어내\n",
      "http://biz.chosun.com/site/data/html_dir/2017/12/05/2017120501486.html\n",
      "\"정부, 가상화폐 거래소 등록제 도입해야...과세기준 정비도 시급\"\n"
     ]
    }
   ],
   "source": [
    "soup = BeautifulSoup(r.text, 'lxml')\n",
    "dls = soup.find_all('dl', attrs={'class': 'search_news'})\n",
    "for dl in dls:\n",
    "    print(dl.dt.a['href'])\n",
    "    print(dl.dt.a.text)"
   ]
  },
  {
   "cell_type": "markdown",
   "metadata": {},
   "source": [
    "# 뉴스 링크에서 뉴스 본문 텍스트 얻기"
   ]
  },
  {
   "cell_type": "code",
   "execution_count": 4,
   "metadata": {},
   "outputs": [
    {
     "data": {
      "text/plain": [
       "'\\n\\n\\r\\n\\t\\t\\t\\t\\t입력 : 2017.12.05 15:00\\r\\n\\t\\t    \\n\\n국세청, 2017 국세행정포럼 개최 \\n\\n\\n\\n\\n\\n▲ 조선일보 DB\\n\\n\\r\\n\\r\\n\\r\\n\\t\\t\\t\\t정부가 가상화폐 거래소에 대한 등록제를 도입하고, 가상화폐에 대한 과세기준을 시급히 정비해야 한다는 주장이 제기됐다. 김병일 강남대학교 경제세무학과 교수는 5일 국세청이 실시한 ‘2017 국세행정포럼’에 참석해 ‘가상화폐에 대한 과세기준 정립 및 과세방향 모색방안’을 발표하며 이같이 밝혔다.김 교수는 “국가별로 가상화폐에 대한 통일된 과세기준이 없어 과세 여부에 차이가 발생하는 등 다양한 세무상 쟁점이 대두되고 있다”며 “정부가 가상화폐에 대한 과세기준을 정립하고 가상화폐를 이용한 조세회피행위에 대한 체계적인 대응방안을 모색해야 한다”고 말했다.김 교수는 우선 핵심 쟁점인 부가가치세의 경우 가상화폐의 법적 성격이 재화인지 또는 지급수단인지에 따라 부가가치세 과세여부 차이 발생한다고 설명했다. 재화로 볼 경우에는 과세가 가능하지만, 지급수단으로 볼 경우에는 비과세가 타당하다는 설명이다. 김 교수는 “정부가 국제적인 동향을 감안하되 거래유형별로 과세대상 여부를 판단하는 것이 타당하며, 혼란이 없도록 법령 개정 또는 세법 해석을 통해 과세대상 여부를 명확히 정립해야 한다”고 말했다. 그는 이어 “아직 전세계적으로 통일된 기준은 없지만, 부가가치세의 경우 통화적 성격 또는 결제수단적 성격을 인정해 비과세하는 추세”라고 설명했다.\\n\\n\\n\\n\\n\\n▲ 국세청 제공\\n\\n\\r\\n\\r\\n\\r\\n\\t\\t\\t\\t또 사업소득세와 법인세의 경우 사업자의 가상화폐 관련 사업소득 등은 현행 세법상 소득세 또는 법인세 과세 가능하지만, 가상화폐의 자산분류 및 공정가치 측정방법 등 회계기준을 별도로 마련해야 한다고 그는 주장했다.김 교수는 상속·증여세의 경우 가상화폐는 경제적 가치를 가진 재산으로 볼 수 있어 현행 세법으로 상속·증여세 과세가 가능하지만, 구체적인 재산 평가방법에 대해 관련 규정 보완이 필요하다고 했다. 양도소득세의 경우 개인이 단순 투자목적으로 가상화폐를 거래하고 매매차익이 발생한 경우 양도소득세를 부과하는 것이 바람직하다고 그는 주장했다. 다만, 현행 소득세법 상 과세대상으로 열거돼있지 않아 과세를 위해서는 관련 규정 보완이 필요하며, 양도소득세를 과세하지 않는 경우 거래세를 부과하는 방안을 검토해야 한다고 그는 덧붙였다.김 교수는 “거래투명성 확보 및 조세회피방지를 위해 가상화폐 거래소 등록제를 도입하고 거래자 본인확인제를 실시해야 한다”며 “거래소에 대한 자금세탁방지 및 거래자료 제출의무 부과 등 규제도 강화해야 한다”고 강조했다. 국세청 관계자는 “이날 포럼에서 논의된 의견을 면밀히 검토해 실행가능한 사안은 정책에 적극 반영하는 한편, 법령개정 사항 등 중장기 개선과제는 기획재정부 등 관계부처와 적극 협의해 나가겠다”고 밝혔다.\\n\\n'"
      ]
     },
     "execution_count": 4,
     "metadata": {},
     "output_type": "execute_result"
    }
   ],
   "source": [
    "# \"정부, 가상화폐 거래소 등록제 도입해야...과세기준 정비도 시급\"\n",
    "# http://biz.chosun.com/site/data/html_dir/2017/12/05/2017120501486.html\n",
    "\n",
    "url = 'http://biz.chosun.com/site/data/html_dir/2017/12/05/2017120501486.html'\n",
    "r = requests.get(url)\n",
    "r.encoding='utf-8'\n",
    "soup = BeautifulSoup(r.text, 'lxml')\n",
    "div = soup.find('div', id='article_2011')\n",
    "div.text"
   ]
  },
  {
   "cell_type": "markdown",
   "metadata": {},
   "source": [
    "# 페이지를 순회하면서 모든 뉴스 링크 얻기 (최대 50 페이지)"
   ]
  },
  {
   "cell_type": "code",
   "execution_count": 5,
   "metadata": {},
   "outputs": [
    {
     "name": "stdout",
     "output_type": "stream",
     "text": [
      "http://app.chosun.com/site/data/html_dir/2017/12/06/2017120601712.html\n",
      "두나무, 가상화폐 거래소 '업비트' 거래수수료 페이백 이벤트 기간 연장\n",
      "http://biz.chosun.com/site/data/html_dir/2017/12/06/2017120601960.html\n",
      "'비트코인 선물' 국내 거래 금지...비트코인 가격엔 영향없어\n",
      "http://biz.chosun.com/site/data/html_dir/2017/12/06/2017120601684.html\n",
      "“비트코인은 위험하고 체계적인 거품”\n",
      "http://biz.chosun.com/site/data/html_dir/2017/12/06/2017120601327.html\n",
      "내년부터 가상화폐 거래시 본인명의 계좌 한곳만 입출금 가능\n",
      "http://biz.chosun.com/site/data/html_dir/2017/12/05/2017120502113.html\n",
      "[가상화폐 규제] \"도박·투기판\" vs \"새 금융패러다임\"\n",
      "http://biz.chosun.com/site/data/html_dir/2017/12/05/2017120502944.html\n",
      "[가상화폐 규제] 소비자보호·불법행위에 초점…중국, 러시아는 원천금지\n",
      "http://biz.chosun.com/site/data/html_dir/2017/12/05/2017120502948.html\n",
      "[가상화폐 규제] 경제학자 vs IT 전문가...전선 명확히 갈려\n",
      "http://biz.chosun.com/site/data/html_dir/2017/12/06/2017120600068.html\n",
      "가상통화에 獨은 부가세, 美·日은 양도세… 한국은?\n",
      "http://biz.chosun.com/site/data/html_dir/2017/12/06/2017120600098.html\n",
      "서점가에서도 바뀐 투자 트렌드… 가상화폐·주식이 부동산 밀어내\n",
      "http://biz.chosun.com/site/data/html_dir/2017/12/05/2017120501486.html\n",
      "\"정부, 가상화폐 거래소 등록제 도입해야...과세기준 정비도 시급\"\n",
      "http://biz.chosun.com/site/data/html_dir/2017/12/05/2017120501154.html\n",
      "페이팔 공동창업자 “비트코인 미래 불투명해”\n",
      "http://biz.chosun.com/site/data/html_dir/2017/12/05/2017120501010.html\n",
      "[암호화폐 2017] IT조선, 블록체인·암호화폐 콘퍼런스 2017 개막...전 세계 전문가 총출동\n",
      "http://biz.chosun.com/site/data/html_dir/2017/12/05/2017120500869.html\n",
      "가상화폐 인정한 일본 정부 고백 “인가제로 투기만 키웠다”\n",
      "http://biz.chosun.com/site/data/html_dir/2017/12/05/2017120500415.html\n",
      "[투자노트] 가상화폐보다 블록체인에 투자한다면\n",
      "http://biz.chosun.com/site/data/html_dir/2017/12/04/2017120402489.html\n",
      "금융당국 \"가상화폐 거래소 인가제, 도박장 인정하는 꼴\"\n",
      "http://biz.chosun.com/site/data/html_dir/2017/12/04/2017120402218.html\n",
      "부도위기 베네수엘라, 가상화폐 '페트로' 도입 추진\n",
      "http://biz.chosun.com/site/data/html_dir/2017/12/04/2017120401797.html\n",
      "시카고옵션거래소 \"가상화폐 시장이 전 세계 지배할 것\"\n",
      "http://kid.chosun.com/site/data/html_dir/2017/12/03/2017120301071.html\n",
      "[이슈 Plus+] 암호 풀면 생성되는 가상화폐… 몸값 천정부지로 치솟아\n",
      "http://news.chosun.com/site/data/html_dir/2017/12/04/2017120400385.html\n",
      "'가수 박정운 연루' 2000억원대 가상화폐 사기… 14명 또 구속\n",
      "http://news.chosun.com/site/data/html_dir/2017/12/03/2017120301205.html\n",
      "\"무심코 버린 노트북에 있던 비트코인, 현재 1170억원 가치\"\n",
      "http://news.chosun.com/site/data/html_dir/2017/12/02/2017120200920.html\n",
      "비트코인, 18일부터 월가서 '선물' 출시… 금·원유 같은 '자산' 반열에\n",
      "http://biz.chosun.com/site/data/html_dir/2017/12/02/2017120200282.html\n",
      "수퍼개미의 주식 전망, 상투 걱정 없는 부동산, 금리 6배 P2P 투자…\n",
      "http://news.chosun.com/site/data/html_dir/2017/12/01/2017120102958.html\n",
      "[사설] 軍 사이버司 무력화돼 北 공세 대응 못 한다니\n",
      "http://news.chosun.com/site/data/html_dir/2017/12/02/2017120200159.html\n",
      "\"분단위로 수십만원 등락\" 가상화폐 폐인들 폰 쥐고 쪽잠\n",
      "http://news.chosun.com/site/data/html_dir/2017/12/02/2017120200223.html\n",
      "[News Box] '北 지도부 참수부대' 만들었다 외\n",
      "http://biz.chosun.com/site/data/html_dir/2017/12/01/2017120102296.html\n",
      "백악관 \"美 국무부, 비트코인 등 가상화폐 예의주시\"\n",
      "http://biz.chosun.com/site/data/html_dir/2017/12/01/2017120101749.html\n",
      "비트코인 관련株도 연일 '롤러코스터'\n",
      "http://biz.chosun.com/site/data/html_dir/2017/12/01/2017120101233.html\n",
      "골드만삭스 “비트코인은 화폐 아닌 상품”\n",
      "http://biz.chosun.com/site/data/html_dir/2017/12/01/2017120100787.html\n",
      "[특징주] SCI평가정보, 가상화폐거래소 설립 소식에 나흘째 상한가\n",
      "http://biz.chosun.com/site/data/html_dir/2017/11/30/2017113002874.html\n",
      "비트코인 폭락에도 '전일대비 상승' 표기?...기준 달라 혼란\n",
      "http://biz.chosun.com/site/data/html_dir/2017/11/30/2017113002371.html\n",
      "노벨상 스티글리츠 \"비트코인, 불법으로 지정해야\"\n",
      "http://biz.chosun.com/site/data/html_dir/2017/11/30/2017113001258.html\n",
      "美 나스닥, 내년 2분기 비트코인 선물 거래 도입\n",
      "http://biz.chosun.com/site/data/html_dir/2017/11/30/2017113001130.html\n",
      "비트코인, 1만1000달러 돌파 뒤 18% 급락…\"생애 최대 거품될 것\"\n",
      "http://news.chosun.com/site/data/html_dir/2017/11/30/2017113000920.html\n",
      "가상화폐 비트코인 인기 비결은? 네티즌 '관심'\n",
      "http://biz.chosun.com/site/data/html_dir/2017/11/29/2017112902598.html\n",
      "일본 가상화폐 거래소 '약진'...미국·한국 등 해외진출 잇따라\n",
      "http://biz.chosun.com/site/data/html_dir/2017/11/29/2017112901745.html\n",
      "日 1위 가상화폐 거래소 '비트플라이어' 미국 진출\n",
      "http://biz.chosun.com/site/data/html_dir/2017/11/29/2017112901637.html\n",
      "'中 가상화폐 관련주' 순레이, 14% 급락...두 달만에 상승세 꺾여\n",
      "http://biz.chosun.com/site/data/html_dir/2017/11/29/2017112901438.html\n",
      "비트코인, 1만달러 돌파...버블 우려에도 쌩쌩\n",
      "http://biz.chosun.com/site/data/html_dir/2017/11/29/2017112901325.html\n",
      "코인원, 사물인터넷 관련 가상화폐 '아이오타' 상장\n",
      "http://biz.chosun.com/site/data/html_dir/2017/11/29/2017112901275.html\n",
      "日 가상화폐거래소 비트포인트, 국내 시장 본격 진출\n",
      "http://biz.chosun.com/site/data/html_dir/2017/11/29/2017112901097.html\n",
      "'中 가상화폐 관련주' 순레이, 14% 급락...두 달만에 상승세 꺾여\n",
      "http://app.chosun.com/site/data/html_dir/2017/11/29/2017112901020.html\n",
      "SCI평가정보, 가상화폐 거래소 '에스코인' 내달 6일 오픈\n",
      "http://news.chosun.com/site/data/html_dir/2017/11/22/2017112201965.html\n",
      "새롭게 주목받는 실리콘밸리 스타트업 다섯 곳\n",
      "http://app.chosun.com/site/data/html_dir/2017/11/28/2017112802608.html\n",
      "파이어씨드-코봇컴퍼니, 개인간 거래 시장 내 가상화폐 활용 위한 MOU 체결\n",
      "http://news.chosun.com/site/data/html_dir/2017/11/28/2017112802095.html\n",
      "李총리 \"비트코인 투기화…방치하면 심각한 병리현상\" 적극 대응 주문\n",
      "http://biz.chosun.com/site/data/html_dir/2017/11/27/2017112702162.html\n",
      "'中 클라우드업체' 순레이, 비트코인 덕에 300% 급등\n",
      "http://biz.chosun.com/site/data/html_dir/2017/11/27/2017112702016.html\n",
      "김동연 \"주력산업 구조조정 국책은행 아닌 시장 중심으로 처리\"\n",
      "http://news.chosun.com/site/data/html_dir/2017/11/27/2017112701296.html\n",
      "비트코인 가격 1000만 원 돌파…45일 만에 66% 상승\n",
      "http://thestar.chosun.com/site/data/html_dir/2017/11/27/2017112701000.html\n",
      "박정운 가상화폐 투자사기 사건 공범? \"활동 뜸하다 했더니..\"\n",
      "http://news.chosun.com/site/data/html_dir/2017/11/27/2017112700970.html\n",
      "'가상화폐 사기 연루' 가수 박정운은 누구?\n"
     ]
    }
   ],
   "source": [
    "# 페이지를 순회하면서 모든 뉴스 링크 얻기\n",
    "\n",
    "query = '가상화폐'\n",
    "MAX_PAGE = 5 # 충분히 큰 숫자를 지정 (지면상 5페이지로 제한)\n",
    "\n",
    "for page in range(1,MAX_PAGE+1): \n",
    "    url_tmpl = 'http://search.chosun.com/search/news.search?query={query}&orderby=news&sdate=Y&pageno={pageno}'\n",
    "    url = url_tmpl.format(query=query, pageno=str(page))\n",
    "    r = requests.get(url)\n",
    "    soup = BeautifulSoup(r.text, 'lxml')\n",
    "    if '검색 결과가 없습니다' in soup.text:\n",
    "        break\n",
    "    dls = soup.find_all('dl', attrs={'class': 'search_news'})\n",
    "    for dl in dls:\n",
    "        print(dl.dt.a['href'])\n",
    "        print(dl.dt.a.text)"
   ]
  },
  {
   "cell_type": "markdown",
   "metadata": {},
   "source": [
    "# 정리"
   ]
  },
  {
   "cell_type": "code",
   "execution_count": 6,
   "metadata": {},
   "outputs": [
    {
     "name": "stdout",
     "output_type": "stream",
     "text": [
      "두나무, 가상화폐 거래소 '업비트' 거래수수료 페이백 이벤트 기간 연장\n",
      "http://app.chosun.com/site/data/html_dir/2017/12/06/2017120601712.html\n",
      "2017120601712.txt\n",
      "'비트코인 선물' 국내 거래 금지...비트코인 가격엔 영향없어\n",
      "http://biz.chosun.com/site/data/html_dir/2017/12/06/2017120601960.html\n",
      "2017120601960.txt\n",
      "“비트코인은 위험하고 체계적인 거품”\n",
      "http://biz.chosun.com/site/data/html_dir/2017/12/06/2017120601684.html\n",
      "2017120601684.txt\n",
      "내년부터 가상화폐 거래시 본인명의 계좌 한곳만 입출금 가능\n",
      "http://biz.chosun.com/site/data/html_dir/2017/12/06/2017120601327.html\n",
      "2017120601327.txt\n",
      "[가상화폐 규제] \"도박·투기판\" vs \"새 금융패러다임\"\n",
      "http://biz.chosun.com/site/data/html_dir/2017/12/05/2017120502113.html\n",
      "2017120502113.txt\n",
      "[가상화폐 규제] 소비자보호·불법행위에 초점…중국, 러시아는 원천금지\n",
      "http://biz.chosun.com/site/data/html_dir/2017/12/05/2017120502944.html\n",
      "2017120502944.txt\n",
      "[가상화폐 규제] 경제학자 vs IT 전문가...전선 명확히 갈려\n",
      "http://biz.chosun.com/site/data/html_dir/2017/12/05/2017120502948.html\n",
      "2017120502948.txt\n",
      "가상통화에 獨은 부가세, 美·日은 양도세… 한국은?\n",
      "http://biz.chosun.com/site/data/html_dir/2017/12/06/2017120600068.html\n",
      "2017120600068.txt\n",
      "서점가에서도 바뀐 투자 트렌드… 가상화폐·주식이 부동산 밀어내\n",
      "http://biz.chosun.com/site/data/html_dir/2017/12/06/2017120600098.html\n",
      "2017120600098.txt\n",
      "\"정부, 가상화폐 거래소 등록제 도입해야...과세기준 정비도 시급\"\n",
      "http://biz.chosun.com/site/data/html_dir/2017/12/05/2017120501486.html\n",
      "2017120501486.txt\n",
      "페이팔 공동창업자 “비트코인 미래 불투명해”\n",
      "http://biz.chosun.com/site/data/html_dir/2017/12/05/2017120501154.html\n",
      "2017120501154.txt\n",
      "[암호화폐 2017] IT조선, 블록체인·암호화폐 콘퍼런스 2017 개막...전 세계 전문가 총출동\n",
      "http://biz.chosun.com/site/data/html_dir/2017/12/05/2017120501010.html\n",
      "2017120501010.txt\n",
      "가상화폐 인정한 일본 정부 고백 “인가제로 투기만 키웠다”\n",
      "http://biz.chosun.com/site/data/html_dir/2017/12/05/2017120500869.html\n",
      "2017120500869.txt\n",
      "[투자노트] 가상화폐보다 블록체인에 투자한다면\n",
      "http://biz.chosun.com/site/data/html_dir/2017/12/05/2017120500415.html\n",
      "2017120500415.txt\n",
      "금융당국 \"가상화폐 거래소 인가제, 도박장 인정하는 꼴\"\n",
      "http://biz.chosun.com/site/data/html_dir/2017/12/04/2017120402489.html\n",
      "2017120402489.txt\n",
      "부도위기 베네수엘라, 가상화폐 '페트로' 도입 추진\n",
      "http://biz.chosun.com/site/data/html_dir/2017/12/04/2017120402218.html\n",
      "2017120402218.txt\n",
      "시카고옵션거래소 \"가상화폐 시장이 전 세계 지배할 것\"\n",
      "http://biz.chosun.com/site/data/html_dir/2017/12/04/2017120401797.html\n",
      "2017120401797.txt\n",
      "[이슈 Plus+] 암호 풀면 생성되는 가상화폐… 몸값 천정부지로 치솟아\n",
      "http://kid.chosun.com/site/data/html_dir/2017/12/03/2017120301071.html\n",
      "2017120301071.txt\n",
      "'가수 박정운 연루' 2000억원대 가상화폐 사기… 14명 또 구속\n",
      "http://news.chosun.com/site/data/html_dir/2017/12/04/2017120400385.html\n",
      "2017120400385.txt\n",
      "\"무심코 버린 노트북에 있던 비트코인, 현재 1170억원 가치\"\n",
      "http://news.chosun.com/site/data/html_dir/2017/12/03/2017120301205.html\n",
      "2017120301205.txt\n",
      "비트코인, 18일부터 월가서 '선물' 출시… 금·원유 같은 '자산' 반열에\n",
      "http://news.chosun.com/site/data/html_dir/2017/12/02/2017120200920.html\n",
      "2017120200920.txt\n",
      "수퍼개미의 주식 전망, 상투 걱정 없는 부동산, 금리 6배 P2P 투자…\n",
      "http://biz.chosun.com/site/data/html_dir/2017/12/02/2017120200282.html\n",
      "2017120200282.txt\n",
      "[사설] 軍 사이버司 무력화돼 北 공세 대응 못 한다니\n",
      "http://news.chosun.com/site/data/html_dir/2017/12/01/2017120102958.html\n",
      "2017120102958.txt\n",
      "\"분단위로 수십만원 등락\" 가상화폐 폐인들 폰 쥐고 쪽잠\n",
      "http://news.chosun.com/site/data/html_dir/2017/12/02/2017120200159.html\n",
      "2017120200159.txt\n",
      "[News Box] '北 지도부 참수부대' 만들었다 외\n",
      "http://news.chosun.com/site/data/html_dir/2017/12/02/2017120200223.html\n",
      "2017120200223.txt\n",
      "백악관 \"美 국무부, 비트코인 등 가상화폐 예의주시\"\n",
      "http://biz.chosun.com/site/data/html_dir/2017/12/01/2017120102296.html\n",
      "2017120102296.txt\n",
      "비트코인 관련株도 연일 '롤러코스터'\n",
      "http://biz.chosun.com/site/data/html_dir/2017/12/01/2017120101749.html\n",
      "2017120101749.txt\n",
      "골드만삭스 “비트코인은 화폐 아닌 상품”\n",
      "http://biz.chosun.com/site/data/html_dir/2017/12/01/2017120101233.html\n",
      "2017120101233.txt\n",
      "[특징주] SCI평가정보, 가상화폐거래소 설립 소식에 나흘째 상한가\n",
      "http://biz.chosun.com/site/data/html_dir/2017/12/01/2017120100787.html\n",
      "2017120100787.txt\n",
      "비트코인 폭락에도 '전일대비 상승' 표기?...기준 달라 혼란\n",
      "http://biz.chosun.com/site/data/html_dir/2017/11/30/2017113002874.html\n",
      "2017113002874.txt\n"
     ]
    }
   ],
   "source": [
    "from datetime import datetime, timedelta\n",
    "from bs4 import BeautifulSoup \n",
    "import requests\n",
    "from urllib.parse import urlparse\n",
    "import os\n",
    "import chardet\n",
    "\n",
    "query = '가상화폐'\n",
    "MAX_PAGE = 3 # 충분히 큰 숫자를 지정 (지면상 3페이지로 제한)\n",
    "url_tmpl = 'http://search.chosun.com/search/news.search?query={query}&orderby=news&sdate=Y&pageno={pageno}'\n",
    "\n",
    "for page in range(1,MAX_PAGE+1):\n",
    "    url = url_tmpl.format(query=query, pageno=str(page))\n",
    "    r = requests.get(url)\n",
    "    soup = BeautifulSoup(r.text, 'lxml')\n",
    "    if '검색 결과가 없습니다' in soup.text:\n",
    "        break\n",
    "    dls = soup.find_all('dl', attrs={'class': 'search_news'})\n",
    "    for dl in dls:\n",
    "        print(dl.dt.a.text)\n",
    "        news_link = dl.dt.a['href']\n",
    "        r = requests.get(news_link)\n",
    "        det = chardet.detect(r.content)\n",
    "        r.encoding = det['encoding']\n",
    "        print(news_link)\n",
    "        soup = BeautifulSoup(r.text, 'lxml')\n",
    "        div = soup.find('div', attrs={'id':'article_2011'})\n",
    "        if div == None:\n",
    "            div = div = soup.find('div', attrs={'id':'article'})\n",
    "        if div == None:\n",
    "            div = div = soup.find('div', attrs={'class':'newsCnt'})\n",
    "        if div == None:\n",
    "            div = div = soup.find('article', attrs={'class':'news_article'})\n",
    "        if div == None:\n",
    "            div = div = soup.find('div', attrs={'id':'article'})\n",
    "        if div == None:\n",
    "            div = div = soup.find('div', attrs={'id':'news_body_id'})\n",
    "\n",
    "        a = urlparse(news_link)\n",
    "        file_name = os.path.basename(a.path)\n",
    "        file_name = file_name.replace('.html', '.txt')\n",
    "        print(file_name)\n",
    "        with open(file_name, 'wt') as f:\n",
    "             f.write(div.text)"
   ]
  }
 ],
 "metadata": {
  "colab": {
   "collapsed_sections": [],
   "default_view": {},
   "name": "조선일보 뉴스검색.ipynb",
   "provenance": [],
   "version": "0.3.2",
   "views": {}
  },
  "kernelspec": {
   "display_name": "Python 3",
   "language": "python",
   "name": "python3"
  },
  "language_info": {
   "codemirror_mode": {
    "name": "ipython",
    "version": 3
   },
   "file_extension": ".py",
   "mimetype": "text/x-python",
   "name": "python",
   "nbconvert_exporter": "python",
   "pygments_lexer": "ipython3",
   "version": "3.5.2"
  }
 },
 "nbformat": 4,
 "nbformat_minor": 1
}
